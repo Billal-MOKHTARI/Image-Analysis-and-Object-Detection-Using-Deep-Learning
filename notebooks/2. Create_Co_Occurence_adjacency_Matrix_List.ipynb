{
 "cells": [
  {
   "cell_type": "markdown",
   "metadata": {},
   "source": [
    "## Import Packages & Manage Environment"
   ]
  },
  {
   "cell_type": "code",
   "execution_count": 1,
   "metadata": {},
   "outputs": [],
   "source": [
    "import pandas as pd\n",
    "import numpy as np\n",
    "import sys\n",
    "\n",
    "# Add the parent directory to the system path to access custom modules\n",
    "sys.path.append('../src')\n",
    "from pipelines import pipelines"
   ]
  },
  {
   "cell_type": "markdown",
   "metadata": {},
   "source": [
    "## Define Constants"
   ]
  },
  {
   "cell_type": "code",
   "execution_count": 2,
   "metadata": {},
   "outputs": [],
   "source": [
    "ANNOT_DATA_PATH = \"/workspaces/Image-Analysis-and-Object-Detection-Using-Deep-Learning/data/output/2. processed_annotations.csv\"\n",
    "LABEL_CATEGORIES_PATH = \"/workspaces/Image-Analysis-and-Object-Detection-Using-Deep-Learning/data/output/label_categories.csv\"\n",
    "SAVE_PATH = \"/workspaces/Image-Analysis-and-Object-Detection-Using-Deep-Learning/data/output/graphxr_datasets/graphxr_co_occ_list.csv\"\n",
    "URL_BASE = \"https://raw.githubusercontent.com/Billal-MOKHTARI/Image-Analysis-and-Object-Detection-Using-Deep-Learning/main/data/test/\""
   ]
  },
  {
   "cell_type": "markdown",
   "metadata": {},
   "source": [
    "## Import Data"
   ]
  },
  {
   "cell_type": "code",
   "execution_count": 3,
   "metadata": {},
   "outputs": [
    {
     "name": "stderr",
     "output_type": "stream",
     "text": [
      "/workspaces/Image-Analysis-and-Object-Detection-Using-Deep-Learning/notebooks/../src/pipelines/pipelines.py:33: SettingWithCopyWarning: \n",
      "A value is trying to be set on a copy of a slice from a DataFrame\n",
      "\n",
      "See the caveats in the documentation: https://pandas.pydata.org/pandas-docs/stable/user_guide/indexing.html#returning-a-view-versus-a-copy\n",
      "  node_weight_obj.drop(columns=[\"Neighbor\"], inplace=True)\n",
      "/workspaces/Image-Analysis-and-Object-Detection-Using-Deep-Learning/notebooks/../src/pipelines/pipelines.py:34: SettingWithCopyWarning: \n",
      "A value is trying to be set on a copy of a slice from a DataFrame\n",
      "\n",
      "See the caveats in the documentation: https://pandas.pydata.org/pandas-docs/stable/user_guide/indexing.html#returning-a-view-versus-a-copy\n",
      "  node_weight_obj.rename(columns={\"Weight\": \"nodeWeight\"}, inplace=True)\n",
      "/workspaces/Image-Analysis-and-Object-Detection-Using-Deep-Learning/notebooks/../src/pipelines/pipelines.py:53: SettingWithCopyWarning: \n",
      "A value is trying to be set on a copy of a slice from a DataFrame\n",
      "\n",
      "See the caveats in the documentation: https://pandas.pydata.org/pandas-docs/stable/user_guide/indexing.html#returning-a-view-versus-a-copy\n",
      "  node_weight_img.drop(columns=[\"Neighbor\"], inplace=True)\n",
      "/workspaces/Image-Analysis-and-Object-Detection-Using-Deep-Learning/notebooks/../src/pipelines/pipelines.py:54: SettingWithCopyWarning: \n",
      "A value is trying to be set on a copy of a slice from a DataFrame\n",
      "\n",
      "See the caveats in the documentation: https://pandas.pydata.org/pandas-docs/stable/user_guide/indexing.html#returning-a-view-versus-a-copy\n",
      "  node_weight_img.rename(columns={\"Weight\": \"nodeWeight\"}, inplace=True)\n"
     ]
    }
   ],
   "source": [
    "data = pipelines.create_co_occurrence_graphxr_dataset(ANNOT_DATA_PATH, \n",
    "                                                LABEL_CATEGORIES_PATH,\n",
    "                                                URL_BASE,\n",
    "                                                SAVE_PATH,\n",
    "                                                index=False)"
   ]
  }
 ],
 "metadata": {
  "kernelspec": {
   "display_name": "Python 3",
   "language": "python",
   "name": "python3"
  },
  "language_info": {
   "codemirror_mode": {
    "name": "ipython",
    "version": 3
   },
   "file_extension": ".py",
   "mimetype": "text/x-python",
   "name": "python",
   "nbconvert_exporter": "python",
   "pygments_lexer": "ipython3",
   "version": "3.10.13"
  }
 },
 "nbformat": 4,
 "nbformat_minor": 2
}
