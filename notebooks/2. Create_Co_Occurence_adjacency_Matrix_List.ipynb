{
 "cells": [
  {
   "cell_type": "markdown",
   "metadata": {},
   "source": [
    "## Import Packages & Manage Environment"
   ]
  },
  {
   "cell_type": "code",
   "execution_count": 1,
   "metadata": {},
   "outputs": [],
   "source": [
    "import pandas as pd\n",
    "import numpy as np\n",
    "import sys\n",
    "\n",
    "# Add the parent directory to the system path to access custom modules\n",
    "sys.path.append('../src')\n",
    "from pipelines import pipelines"
   ]
  },
  {
   "cell_type": "markdown",
   "metadata": {},
   "source": [
    "## Define Constants"
   ]
  },
  {
   "cell_type": "code",
   "execution_count": 2,
   "metadata": {},
   "outputs": [],
   "source": [
    "ANNOT_DATA_PATH = \"/workspaces/Image-Analysis-and-Object-Detection-Using-Deep-Learning/data/output/2. processed_annotations.csv\"\n",
    "LABEL_CATEGORIES_PATH = \"/workspaces/Image-Analysis-and-Object-Detection-Using-Deep-Learning/data/output/label_categories.csv\"\n",
    "SAVE_PATH_OVERALL = \"/workspaces/Image-Analysis-and-Object-Detection-Using-Deep-Learning/data/output/graphxr_datasets/graphxr_co_occ_list.csv\"\n",
    "SAVE_PATH_OBJ = \"/workspaces/Image-Analysis-and-Object-Detection-Using-Deep-Learning/data/output/graphxr_datasets/graphxr_obj_co_occ_list.csv\"\n",
    "SAVE_PATH_IMG = \"/workspaces/Image-Analysis-and-Object-Detection-Using-Deep-Learning/data/output/graphxr_datasets/graphxr_img_co_occ_list.csv\"\n",
    "URL_BASE = \"https://raw.githubusercontent.com/Billal-MOKHTARI/Image-Analysis-and-Object-Detection-Using-Deep-Learning/main/data/test/\""
   ]
  },
  {
   "cell_type": "markdown",
   "metadata": {},
   "source": [
    "## Import Data"
   ]
  },
  {
   "cell_type": "code",
   "execution_count": 3,
   "metadata": {},
   "outputs": [
    {
     "name": "stderr",
     "output_type": "stream",
     "text": [
      "/workspaces/Image-Analysis-and-Object-Detection-Using-Deep-Learning/notebooks/../src/pipelines/pipelines.py:47: SettingWithCopyWarning: \n",
      "A value is trying to be set on a copy of a slice from a DataFrame\n",
      "\n",
      "See the caveats in the documentation: https://pandas.pydata.org/pandas-docs/stable/user_guide/indexing.html#returning-a-view-versus-a-copy\n",
      "  node_weight_obj.drop(columns=[\"Neighbor\"], inplace=True)\n",
      "/workspaces/Image-Analysis-and-Object-Detection-Using-Deep-Learning/notebooks/../src/pipelines/pipelines.py:48: SettingWithCopyWarning: \n",
      "A value is trying to be set on a copy of a slice from a DataFrame\n",
      "\n",
      "See the caveats in the documentation: https://pandas.pydata.org/pandas-docs/stable/user_guide/indexing.html#returning-a-view-versus-a-copy\n",
      "  node_weight_obj.rename(columns={\"Weight\": \"nodeWeight\"}, inplace=True)\n",
      "/workspaces/Image-Analysis-and-Object-Detection-Using-Deep-Learning/notebooks/../src/pipelines/pipelines.py:68: SettingWithCopyWarning: \n",
      "A value is trying to be set on a copy of a slice from a DataFrame\n",
      "\n",
      "See the caveats in the documentation: https://pandas.pydata.org/pandas-docs/stable/user_guide/indexing.html#returning-a-view-versus-a-copy\n",
      "  node_weight_img.drop(columns=[\"Neighbor\"], inplace=True)\n",
      "/workspaces/Image-Analysis-and-Object-Detection-Using-Deep-Learning/notebooks/../src/pipelines/pipelines.py:69: SettingWithCopyWarning: \n",
      "A value is trying to be set on a copy of a slice from a DataFrame\n",
      "\n",
      "See the caveats in the documentation: https://pandas.pydata.org/pandas-docs/stable/user_guide/indexing.html#returning-a-view-versus-a-copy\n",
      "  node_weight_img.rename(columns={\"Weight\": \"nodeWeight\"}, inplace=True)\n"
     ]
    },
    {
     "ename": "TypeError",
     "evalue": "unhashable type: 'DataFrame'",
     "output_type": "error",
     "traceback": [
      "\u001b[0;31m---------------------------------------------------------------------------\u001b[0m",
      "\u001b[0;31mTypeError\u001b[0m                                 Traceback (most recent call last)",
      "Cell \u001b[0;32mIn[3], line 1\u001b[0m\n\u001b[0;32m----> 1\u001b[0m data \u001b[38;5;241m=\u001b[39m \u001b[43mpipelines\u001b[49m\u001b[38;5;241;43m.\u001b[39;49m\u001b[43mcreate_co_occurrence_graphxr_dataset\u001b[49m\u001b[43m(\u001b[49m\u001b[43mANNOT_DATA_PATH\u001b[49m\u001b[43m,\u001b[49m\u001b[43m \u001b[49m\n\u001b[1;32m      2\u001b[0m \u001b[43m                                                \u001b[49m\u001b[43mLABEL_CATEGORIES_PATH\u001b[49m\u001b[43m,\u001b[49m\n\u001b[1;32m      3\u001b[0m \u001b[43m                                                \u001b[49m\u001b[43mURL_BASE\u001b[49m\u001b[43m,\u001b[49m\n\u001b[1;32m      4\u001b[0m \u001b[43m                                                \u001b[49m\u001b[43msave_path_img\u001b[49m\u001b[38;5;241;43m=\u001b[39;49m\u001b[43mSAVE_PATH_IMG\u001b[49m\u001b[43m,\u001b[49m\n\u001b[1;32m      5\u001b[0m \u001b[43m                                                \u001b[49m\u001b[43msave_path_obj\u001b[49m\u001b[38;5;241;43m=\u001b[39;49m\u001b[43mSAVE_PATH_OBJ\u001b[49m\u001b[43m)\u001b[49m\n",
      "File \u001b[0;32m/workspaces/Image-Analysis-and-Object-Detection-Using-Deep-Learning/notebooks/../src/pipelines/pipelines.py:93\u001b[0m, in \u001b[0;36mcreate_co_occurrence_graphxr_dataset\u001b[0;34m(annot_mat_path, label_categories_path, URL_base, save_path_overall, save_path_obj, save_path_img, **kwargs)\u001b[0m\n\u001b[1;32m     90\u001b[0m \u001b[38;5;28;01mif\u001b[39;00m save_path_img \u001b[38;5;129;01mis\u001b[39;00m \u001b[38;5;129;01mnot\u001b[39;00m \u001b[38;5;28;01mNone\u001b[39;00m:\n\u001b[1;32m     91\u001b[0m     img_co_occ_list\u001b[38;5;241m.\u001b[39mto_csv(save_path_img, index\u001b[38;5;241m=\u001b[39mindex_img)\n\u001b[0;32m---> 93\u001b[0m \u001b[38;5;28;01mreturn\u001b[39;00m co_occ_list, {obj_co_occ_list, img_co_occ_list}\n",
      "\u001b[0;31mTypeError\u001b[0m: unhashable type: 'DataFrame'"
     ]
    }
   ],
   "source": [
    "data = pipelines.create_co_occurrence_graphxr_dataset(ANNOT_DATA_PATH, \n",
    "                                                LABEL_CATEGORIES_PATH,\n",
    "                                                URL_BASE,\n",
    "                                                save_path_img=SAVE_PATH_IMG,\n",
    "                                                save_path_obj=SAVE_PATH_OBJ)"
   ]
  }
 ],
 "metadata": {
  "kernelspec": {
   "display_name": "Python 3",
   "language": "python",
   "name": "python3"
  },
  "language_info": {
   "codemirror_mode": {
    "name": "ipython",
    "version": 3
   },
   "file_extension": ".py",
   "mimetype": "text/x-python",
   "name": "python",
   "nbconvert_exporter": "python",
   "pygments_lexer": "ipython3",
   "version": "3.10.13"
  }
 },
 "nbformat": 4,
 "nbformat_minor": 2
}
